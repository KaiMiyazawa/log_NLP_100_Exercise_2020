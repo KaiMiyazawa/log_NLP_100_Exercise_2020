{
 "cells": [
  {
   "cell_type": "markdown",
   "id": "e8b52000-6d1c-47c9-93ae-5d8423e884ee",
   "metadata": {},
   "source": [
    "## 15. 末尾のN行を出力Permalink\n",
    "自然数Nをコマンドライン引数などの手段で受け取り，入力のうち末尾のN行だけを表示せよ．確認にはtailコマンドを用いよ．"
   ]
  },
  {
   "cell_type": "code",
   "execution_count": 19,
   "id": "1fed0f93-bc9e-42c9-b034-232e1ef2af66",
   "metadata": {},
   "outputs": [
    {
     "name": "stdin",
     "output_type": "stream",
     "text": [
      " 5\n"
     ]
    },
    {
     "name": "stdout",
     "output_type": "stream",
     "text": [
      "Benjamin\tM\t13381\t2018\n",
      "Elijah\tM\t12886\t2018\n",
      "Lucas\tM\t12585\t2018\n",
      "Mason\tM\t12435\t2018\n",
      "Logan\tM\t12352\t2018\n"
     ]
    }
   ],
   "source": [
    "N = int(input())\n",
    "with open(\"popular-names.txt\") as f:\n",
    "    lines = f.readlines()\n",
    "    c = len(lines) - 1\n",
    "    for i in reversed(range(N)):\n",
    "        print(lines[c-i].replace('\\n', ''))"
   ]
  }
 ],
 "metadata": {
  "kernelspec": {
   "display_name": "Python 3 (ipykernel)",
   "language": "python",
   "name": "python3"
  },
  "language_info": {
   "codemirror_mode": {
    "name": "ipython",
    "version": 3
   },
   "file_extension": ".py",
   "mimetype": "text/x-python",
   "name": "python",
   "nbconvert_exporter": "python",
   "pygments_lexer": "ipython3",
   "version": "3.11.6"
  }
 },
 "nbformat": 4,
 "nbformat_minor": 5
}
