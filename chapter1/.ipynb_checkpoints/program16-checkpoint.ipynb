{
 "cells": [
  {
   "cell_type": "code",
   "execution_count": 6,
   "id": "659192b8-0c28-4286-9a46-0404ce23a18f",
   "metadata": {},
   "outputs": [
    {
     "name": "stdin",
     "output_type": "stream",
     "text": [
      " 5\n"
     ]
    }
   ],
   "source": [
    "path = \"popular-names.txt\"\n",
    "\"\"\"\n",
    "自然数Nをコマンドライン引数などの手段で受け取り，入力のファイルを行単位でN分割せよ．同様の処理をsplitコマンドで実現せよ．\n",
    "\"\"\"\n",
    "\n",
    "with open(path) as f:\n",
    "    N = int(input())\n",
    "    lines = f.readlines()\n",
    "    lnum = len(lines)\n",
    "\n",
    "c = lnum//N\n",
    "\n",
    "for i in range(N):\n",
    "    with open(f\"{i+1}.txt\", 'w') as f:\n",
    "        for j in range(c):\n",
    "            f.write(lines[j])"
   ]
  }
 ],
 "metadata": {
  "kernelspec": {
   "display_name": "Python 3 (ipykernel)",
   "language": "python",
   "name": "python3"
  },
  "language_info": {
   "codemirror_mode": {
    "name": "ipython",
    "version": 3
   },
   "file_extension": ".py",
   "mimetype": "text/x-python",
   "name": "python",
   "nbconvert_exporter": "python",
   "pygments_lexer": "ipython3",
   "version": "3.11.6"
  }
 },
 "nbformat": 4,
 "nbformat_minor": 5
}
