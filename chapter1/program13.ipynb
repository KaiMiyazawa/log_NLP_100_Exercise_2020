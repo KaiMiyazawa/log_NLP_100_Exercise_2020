{
 "cells": [
  {
   "cell_type": "markdown",
   "id": "8bd909ac-9aa7-4043-9239-700fe1b09962",
   "metadata": {},
   "source": [
    "## 13. col1.txtとcol2.txtをマージPermalink\n",
    "12で作ったcol1.txtとcol2.txtを結合し，元のファイルの1列目と2列目をタブ区切りで並べたテキストファイルを作成せよ．確認にはpasteコマンドを用いよ．"
   ]
  },
  {
   "cell_type": "code",
   "execution_count": 2,
   "id": "9bc98f7b-e52d-4b62-8eff-62134839fc67",
   "metadata": {},
   "outputs": [],
   "source": [
    "with open(\"col1.txt\") as c1, open(\"col2.txt\") as c2:\n",
    "    s1 = c1.read()\n",
    "    s2 = c2.read()\n",
    "    s1 = s1.split('\\n')\n",
    "    s2 = s2.split('\\n')\n",
    "    str = \"\"\n",
    "    for i, line1 in enumerate(s1):\n",
    "        str += line1 + \"\\t\" + s2[i]\n",
    "        if i+1 != len(s1):\n",
    "            str += '\\n'\n",
    "\n",
    "with open('col12.txt', 'w') as f:\n",
    "    f.write(str)"
   ]
  }
 ],
 "metadata": {
  "kernelspec": {
   "display_name": "Python 3 (ipykernel)",
   "language": "python",
   "name": "python3"
  },
  "language_info": {
   "codemirror_mode": {
    "name": "ipython",
    "version": 3
   },
   "file_extension": ".py",
   "mimetype": "text/x-python",
   "name": "python",
   "nbconvert_exporter": "python",
   "pygments_lexer": "ipython3",
   "version": "3.11.6"
  }
 },
 "nbformat": 4,
 "nbformat_minor": 5
}
