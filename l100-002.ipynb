{
 "cells": [
  {
   "cell_type": "code",
   "execution_count": 2,
   "id": "be5a0ecb-948a-4a59-aaa6-43ba7674f111",
   "metadata": {},
   "outputs": [],
   "source": [
    "str1 = \"パトカー\"\n",
    "str2 = \"タクシー\""
   ]
  },
  {
   "cell_type": "code",
   "execution_count": 3,
   "id": "e68d8837-1be3-4a03-9197-802f0ece54f4",
   "metadata": {},
   "outputs": [],
   "source": [
    "str = \"\"\n",
    "for c1, c2 in zip(str1, str2):\n",
    "    str = str + c1 + c2"
   ]
  },
  {
   "cell_type": "code",
   "execution_count": 4,
   "id": "222e28ae-47a2-41a9-bf1f-d8ffe932acd7",
   "metadata": {},
   "outputs": [
    {
     "data": {
      "text/plain": [
       "'パタトクカシーー'"
      ]
     },
     "execution_count": 4,
     "metadata": {},
     "output_type": "execute_result"
    }
   ],
   "source": [
    "str"
   ]
  }
 ],
 "metadata": {
  "kernelspec": {
   "display_name": "Python 3 (ipykernel)",
   "language": "python",
   "name": "python3"
  },
  "language_info": {
   "codemirror_mode": {
    "name": "ipython",
    "version": 3
   },
   "file_extension": ".py",
   "mimetype": "text/x-python",
   "name": "python",
   "nbconvert_exporter": "python",
   "pygments_lexer": "ipython3",
   "version": "3.11.6"
  }
 },
 "nbformat": 4,
 "nbformat_minor": 5
}
