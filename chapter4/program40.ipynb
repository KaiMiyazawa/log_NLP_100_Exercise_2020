{
 "cells": [
  {
   "cell_type": "markdown",
   "id": "24998b5d-10cd-418b-b04c-a6c61384c4df",
   "metadata": {},
   "source": [
    "# 第5章: 係り受け解析\n",
    "日本語Wikipediaの「人工知能」に関する記事からテキスト部分を抜き出したファイルがai.ja.zipに収録されている． この文章をCaboChaやKNP等のツールを利用して係り受け解析を行い，その結果をai.ja.txt.parsedというファイルに保存せよ．このファイルを読み込み，以下の問に対応するプログラムを実装せよ．\n",
    "\n",
    "## 40. 係り受け解析結果の読み込み（形態素）Permalink\n",
    "形態素を表すクラスMorphを実装せよ．このクラスは表層形（surface），基本形（base），品詞（pos），品詞細分類1（pos1）をメンバ変数に持つこととする．さらに，係り受け解析の結果（ai.ja.txt.parsed）を読み込み，各文をMorphオブジェクトのリストとして表現し，冒頭の説明文の形態素列を表示せよ．"
   ]
  },
  {
   "cell_type": "code",
   "execution_count": 2,
   "id": "2ce7680a-12e9-4c81-b46a-05f3f5b727fa",
   "metadata": {},
   "outputs": [
    {
     "ename": "ModuleNotFoundError",
     "evalue": "No module named 'CaboCha'",
     "output_type": "error",
     "traceback": [
      "\u001b[0;31m---------------------------------------------------------------------------\u001b[0m",
      "\u001b[0;31mModuleNotFoundError\u001b[0m                       Traceback (most recent call last)",
      "Cell \u001b[0;32mIn[2], line 1\u001b[0m\n\u001b[0;32m----> 1\u001b[0m \u001b[38;5;28;01mimport\u001b[39;00m \u001b[38;5;21;01mCaboCha\u001b[39;00m\n\u001b[1;32m      3\u001b[0m c \u001b[38;5;241m=\u001b[39m CaboCha\u001b[38;5;241m.\u001b[39mParser()\n\u001b[1;32m      5\u001b[0m texts \u001b[38;5;241m=\u001b[39m []\n",
      "\u001b[0;31mModuleNotFoundError\u001b[0m: No module named 'CaboCha'"
     ]
    }
   ],
   "source": [
    "import CaboCha\n",
    "\n",
    "c = CaboCha.Parser()\n",
    "\n",
    "texts = []\n",
    "\n",
    "with open(\"ai.ja.txt\", \"r\") as input, open(\"ai.ja.txt.parsed\", \"w\") as output:\n",
    "    lines = input.readlines()\n",
    "    for line in lines:\n",
    "        if \"。\" in line:\n",
    "            tmp = line.split(\"。\")\n",
    "            tmp = [x + \"。\" for x in tmp]\n",
    "            texts.extend(tmp)\n",
    "    for text in result:\n",
    "        result = c.parse(text)\n",
    "        output.write(result.toString(c.FORMAT_LATTICE))\n",
    "    "
   ]
  },
  {
   "cell_type": "code",
   "execution_count": null,
   "id": "4583bbaa-92d5-4874-a1ad-821f3cbc0048",
   "metadata": {},
   "outputs": [],
   "source": []
  }
 ],
 "metadata": {
  "kernelspec": {
   "display_name": "Python 3 (ipykernel)",
   "language": "python",
   "name": "python3"
  },
  "language_info": {
   "codemirror_mode": {
    "name": "ipython",
    "version": 3
   },
   "file_extension": ".py",
   "mimetype": "text/x-python",
   "name": "python",
   "nbconvert_exporter": "python",
   "pygments_lexer": "ipython3",
   "version": "3.11.6"
  }
 },
 "nbformat": 4,
 "nbformat_minor": 5
}
