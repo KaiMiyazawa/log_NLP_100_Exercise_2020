{
 "cells": [
  {
   "cell_type": "code",
   "execution_count": 26,
   "id": "54531111-352c-490c-92b5-25e37562cbf3",
   "metadata": {},
   "outputs": [],
   "source": [
    "path = \"popular-names.txt\"\n",
    "with open(path) as f:\n",
    "    s = f.read()\n",
    "    # print(s)\n",
    "\n",
    "lines = s.split('\\n')\n",
    "# print(lines)\n",
    "lists = []\n",
    "for line in lines:\n",
    "    lists.append(line.split('\\t'))\n",
    "# print(lists）"
   ]
  },
  {
   "cell_type": "code",
   "execution_count": 27,
   "id": "20830b5b-0f35-4a59-988a-83bb3ce505e9",
   "metadata": {},
   "outputs": [],
   "source": [
    "with open(\"col1.txt\", 'w') as f:\n",
    "    for child in lists:\n",
    "        if len(child[0])!=0:\n",
    "            f.write(child[0] + '\\n')\n",
    "\n",
    "# with open(\"col1.txt\") as f:\n",
    "#     print(f.read())\n",
    "\n",
    "with open(\"col2.txt\", 'w') as f:\n",
    "    for child in lists:\n",
    "        if len(child[0])!=0:\n",
    "            f.write(child[1] + '\\n')\n",
    "\n",
    "# with open(\"col2.txt\") as f:\n",
    "    # print(f.read())"
   ]
  },
  {
   "cell_type": "code",
   "execution_count": null,
   "id": "fa73fb6d-a9a8-49ad-9438-86295c8b6816",
   "metadata": {},
   "outputs": [],
   "source": []
  }
 ],
 "metadata": {
  "kernelspec": {
   "display_name": "Python 3 (ipykernel)",
   "language": "python",
   "name": "python3"
  },
  "language_info": {
   "codemirror_mode": {
    "name": "ipython",
    "version": 3
   },
   "file_extension": ".py",
   "mimetype": "text/x-python",
   "name": "python",
   "nbconvert_exporter": "python",
   "pygments_lexer": "ipython3",
   "version": "3.11.6"
  }
 },
 "nbformat": 4,
 "nbformat_minor": 5
}
