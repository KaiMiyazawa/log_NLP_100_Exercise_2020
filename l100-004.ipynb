{
 "cells": [
  {
   "cell_type": "code",
   "execution_count": 20,
   "id": "56ea779f-e3df-480e-92bf-f76fc332948f",
   "metadata": {},
   "outputs": [],
   "source": [
    "str = \"Hi He Lied Because Boron Could Not Oxidize Fluorine. New Nations Might Also Sign Peace Security Clause. Arthur King Can.\""
   ]
  },
  {
   "cell_type": "code",
   "execution_count": 22,
   "id": "718e736d-94f7-4bb8-9c47-5faaf8d19445",
   "metadata": {},
   "outputs": [
    {
     "data": {
      "text/plain": [
       "{'Hi': 1,\n",
       " 'H': 2,\n",
       " 'Li': 3,\n",
       " 'Be': 4,\n",
       " 'Bo': 5,\n",
       " 'C': 20,\n",
       " 'N': 10,\n",
       " 'O': 8,\n",
       " 'F': 9,\n",
       " 'Na': 11,\n",
       " 'Mi': 12,\n",
       " 'Al': 13,\n",
       " 'Si': 14,\n",
       " 'Pe': 15,\n",
       " 'S': 16,\n",
       " 'Ar': 18,\n",
       " 'Ki': 19}"
      ]
     },
     "execution_count": 22,
     "metadata": {},
     "output_type": "execute_result"
    }
   ],
   "source": [
    "words = str.split()\n",
    "words_index = {}\n",
    "for i, word in enumerate(words):\n",
    "    if i in (1, 5, 6, 7, 8, 9, 15, 16, 19):\n",
    "        words_index[word[:1]] = i + 1\n",
    "    else:\n",
    "        words_index[word[:2]] = i + 1\n",
    "words_index"
   ]
  }
 ],
 "metadata": {
  "kernelspec": {
   "display_name": "Python 3 (ipykernel)",
   "language": "python",
   "name": "python3"
  },
  "language_info": {
   "codemirror_mode": {
    "name": "ipython",
    "version": 3
   },
   "file_extension": ".py",
   "mimetype": "text/x-python",
   "name": "python",
   "nbconvert_exporter": "python",
   "pygments_lexer": "ipython3",
   "version": "3.11.6"
  }
 },
 "nbformat": 4,
 "nbformat_minor": 5
}
