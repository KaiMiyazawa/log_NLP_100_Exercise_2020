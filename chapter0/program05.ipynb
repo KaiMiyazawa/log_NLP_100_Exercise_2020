{
 "cells": [
  {
   "cell_type": "code",
   "execution_count": 3,
   "id": "dc36e995-0fc3-4101-8b93-ee85cfee3a75",
   "metadata": {},
   "outputs": [
    {
     "name": "stdout",
     "output_type": "stream",
     "text": [
      "文字bi-gram ['Ia', 'am', 'ma', 'an', 'nN', 'NL', 'LP', 'Pe', 'er', 'r']\n",
      "単語bi-gram [['I', 'am'], ['am', 'an'], ['an', 'NLPer'], ['NLPer']]\n"
     ]
    }
   ],
   "source": [
    "def n_gram(n, str):\n",
    "    words = str.split(\" \")\n",
    "    chars = str.replace(\" \", \"\")\n",
    "    chars_list = []\n",
    "    words_list = []\n",
    "    for i in range(len(words)):\n",
    "        words_list.append(words[i:i+n])\n",
    "    for i in range(len(chars)):\n",
    "        chars_list.append(chars[i:i+n])\n",
    "    return chars_list, words_list\n",
    "\n",
    "c, w = n_gram(2, \"I am an NLPer\")\n",
    "print(\"文字bi-gram\", c)\n",
    "print(\"単語bi-gram\", w)"
   ]
  }
 ],
 "metadata": {
  "kernelspec": {
   "display_name": "Python 3 (ipykernel)",
   "language": "python",
   "name": "python3"
  },
  "language_info": {
   "codemirror_mode": {
    "name": "ipython",
    "version": 3
   },
   "file_extension": ".py",
   "mimetype": "text/x-python",
   "name": "python",
   "nbconvert_exporter": "python",
   "pygments_lexer": "ipython3",
   "version": "3.11.6"
  }
 },
 "nbformat": 4,
 "nbformat_minor": 5
}
