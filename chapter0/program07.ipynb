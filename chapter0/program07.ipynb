{
 "cells": [
  {
   "cell_type": "code",
   "execution_count": 5,
   "id": "ead8b409-0a8a-4ffd-a51f-5a7421ab5e1a",
   "metadata": {},
   "outputs": [],
   "source": [
    "def put_XzinoYhaZ(x, y, z):\n",
    "    return (str(x) + \"時の\" + str(y) + \"は\" + str(z))"
   ]
  },
  {
   "cell_type": "code",
   "execution_count": 6,
   "id": "7b2a4402-fe1c-4319-827a-669d022d8b93",
   "metadata": {},
   "outputs": [
    {
     "name": "stdout",
     "output_type": "stream",
     "text": [
      "12時の気温は22.4\n"
     ]
    }
   ],
   "source": [
    "print(put_XzinoYhaZ(12, \"気温\", 22.4))"
   ]
  }
 ],
 "metadata": {
  "kernelspec": {
   "display_name": "Python 3 (ipykernel)",
   "language": "python",
   "name": "python3"
  },
  "language_info": {
   "codemirror_mode": {
    "name": "ipython",
    "version": 3
   },
   "file_extension": ".py",
   "mimetype": "text/x-python",
   "name": "python",
   "nbconvert_exporter": "python",
   "pygments_lexer": "ipython3",
   "version": "3.11.6"
  }
 },
 "nbformat": 4,
 "nbformat_minor": 5
}
