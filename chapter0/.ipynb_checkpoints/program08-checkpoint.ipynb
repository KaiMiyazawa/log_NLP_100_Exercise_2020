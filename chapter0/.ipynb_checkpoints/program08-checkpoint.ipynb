{
 "cells": [
  {
   "cell_type": "code",
   "execution_count": 3,
   "id": "1f05da7d-2503-4370-9a96-36348a817628",
   "metadata": {},
   "outputs": [],
   "source": [
    "def cipher(text):\n",
    "    result = \"\"\n",
    "    for char in text:\n",
    "        if char.islower():\n",
    "            result += chr(219 - ord(char))\n",
    "        else:\n",
    "            result += char\n",
    "    return result"
   ]
  },
  {
   "cell_type": "code",
   "execution_count": 6,
   "id": "78f1997b-0b1d-4f22-ab5a-f08e0aa4e970",
   "metadata": {},
   "outputs": [
    {
     "name": "stdout",
     "output_type": "stream",
     "text": [
      "暗号化: gsv jfrxp yildm ulc qfnkh levi gsv ozab wlt\n",
      "復号化: the quick brown fox jumps over the lazy dog\n"
     ]
    }
   ],
   "source": [
    "encode = cipher(\"the quick brown fox jumps over the lazy dog\")\n",
    "print(\"暗号化:\",encode)\n",
    "decode = cipher(encode)\n",
    "print(\"復号化:\",decode)"
   ]
  }
 ],
 "metadata": {
  "kernelspec": {
   "display_name": "Python 3 (ipykernel)",
   "language": "python",
   "name": "python3"
  },
  "language_info": {
   "codemirror_mode": {
    "name": "ipython",
    "version": 3
   },
   "file_extension": ".py",
   "mimetype": "text/x-python",
   "name": "python",
   "nbconvert_exporter": "python",
   "pygments_lexer": "ipython3",
   "version": "3.11.6"
  }
 },
 "nbformat": 4,
 "nbformat_minor": 5
}
