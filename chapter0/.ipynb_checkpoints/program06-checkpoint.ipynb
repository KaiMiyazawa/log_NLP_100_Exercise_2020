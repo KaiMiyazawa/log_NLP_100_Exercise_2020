{
 "cells": [
  {
   "cell_type": "code",
   "execution_count": 4,
   "id": "165e76cb-6383-4a7b-b3fa-bed41bb6e3e0",
   "metadata": {},
   "outputs": [],
   "source": [
    "def n_gram(n, str):\n",
    "    words = str.split(\" \")\n",
    "    chars = str.replace(\" \", \"\")\n",
    "    chars_list = []\n",
    "    words_list = []\n",
    "    for i in range(len(words)):\n",
    "        words_list.append(words[i:i+n])\n",
    "    for i in range(len(chars)):\n",
    "        chars_list.append(chars[i:i+n])\n",
    "    return chars_list, words_list"
   ]
  },
  {
   "cell_type": "code",
   "execution_count": 10,
   "id": "df2a6539-9166-437a-8c27-65d31c68c930",
   "metadata": {},
   "outputs": [
    {
     "name": "stdout",
     "output_type": "stream",
     "text": [
      "x ['pa', 'ar', 'ra', 'ap', 'pa', 'ar', 'ra', 'ap', 'pa', 'ar', 'ra', 'ad', 'di', 'is', 'se', 'e']\n",
      "y ['pa', 'ar', 'ra', 'ag', 'gr', 'ra', 'ap', 'ph', 'h']\n",
      "X {'ap', 'ra', 'ar', 'e', 'ad', 'se', 'di', 'pa', 'is'}\n",
      "Y {'ap', 'ph', 'h', 'ra', 'ar', 'gr', 'ag', 'pa'}\n"
     ]
    }
   ],
   "source": [
    "long = \"paraparaparadise\"\n",
    "short = \"paragraph\"\n",
    "x, null = n_gram(2, long)\n",
    "y, null = n_gram(2, short)\n",
    "print(\"x\", x)\n",
    "print(\"y\", y)\n",
    "X = set(x)\n",
    "Y = set(y)\n",
    "print(\"X\", X)\n",
    "print(\"Y\", Y)"
   ]
  },
  {
   "cell_type": "code",
   "execution_count": 14,
   "id": "0e8811d8-26a9-4e2c-88e3-2abdcbc5dbb2",
   "metadata": {},
   "outputs": [
    {
     "data": {
      "text/plain": [
       "{'ad', 'ag', 'ap', 'ar', 'di', 'e', 'gr', 'h', 'is', 'pa', 'ph', 'ra', 'se'}"
      ]
     },
     "execution_count": 14,
     "metadata": {},
     "output_type": "execute_result"
    }
   ],
   "source": [
    "X.union(Y)"
   ]
  },
  {
   "cell_type": "code",
   "execution_count": 15,
   "id": "ff871d8d-d57b-442d-944e-edabd0343650",
   "metadata": {},
   "outputs": [
    {
     "data": {
      "text/plain": [
       "{'ap', 'ar', 'pa', 'ra'}"
      ]
     },
     "execution_count": 15,
     "metadata": {},
     "output_type": "execute_result"
    }
   ],
   "source": [
    "X.intersection(Y)"
   ]
  },
  {
   "cell_type": "code",
   "execution_count": 16,
   "id": "82d5bdf8-e283-496c-b2ef-ad7b8eb2a168",
   "metadata": {},
   "outputs": [
    {
     "data": {
      "text/plain": [
       "{'ad', 'di', 'e', 'is', 'se'}"
      ]
     },
     "execution_count": 16,
     "metadata": {},
     "output_type": "execute_result"
    }
   ],
   "source": [
    "X.difference(Y)"
   ]
  },
  {
   "cell_type": "code",
   "execution_count": 18,
   "id": "5c871ba2-ad8d-4919-80b4-9ce4953fc80b",
   "metadata": {},
   "outputs": [
    {
     "name": "stdout",
     "output_type": "stream",
     "text": [
      "se in X\n"
     ]
    }
   ],
   "source": [
    "check = \"se\"\n",
    "\n",
    "if check in X and check in Y:\n",
    "    print(\"se in X an Y\")\n",
    "elif check in X:\n",
    "    print(\"se in X\")\n",
    "elif check in Y:\n",
    "    print(\"se in Y\")\n",
    "else:\n",
    "    print(\"no se\")"
   ]
  }
 ],
 "metadata": {
  "kernelspec": {
   "display_name": "Python 3 (ipykernel)",
   "language": "python",
   "name": "python3"
  },
  "language_info": {
   "codemirror_mode": {
    "name": "ipython",
    "version": 3
   },
   "file_extension": ".py",
   "mimetype": "text/x-python",
   "name": "python",
   "nbconvert_exporter": "python",
   "pygments_lexer": "ipython3",
   "version": "3.11.6"
  }
 },
 "nbformat": 4,
 "nbformat_minor": 5
}
