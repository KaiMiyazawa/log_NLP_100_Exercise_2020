{
 "cells": [
  {
   "cell_type": "code",
   "execution_count": 2,
   "id": "38f0a178-97af-4235-9bb0-78d49e1d7745",
   "metadata": {},
   "outputs": [
    {
     "data": {
      "text/plain": [
       "'I cunol’dt bveeile that I culod actlauly undatsernd what I was reiandg : the pahoeennml peowr of the hmaun mind .'"
      ]
     },
     "execution_count": 2,
     "metadata": {},
     "output_type": "execute_result"
    }
   ],
   "source": [
    "import random\n",
    "\n",
    "def scramble_words(sentence):\n",
    "    words = sentence.split()\n",
    "    scrambled_words = []\n",
    "\n",
    "    for word in words:\n",
    "        if len(word) > 4:\n",
    "            middle = list(word[1:-1])\n",
    "            random.shuffle(middle)\n",
    "            word = word[0] + ''.join(middle) + word[-1]\n",
    "        scrambled_words.append(word)\n",
    "\n",
    "    return ' '.join(scrambled_words)\n",
    "\n",
    "# テスト文\n",
    "test_sentence = \"I couldn’t believe that I could actually understand what I was reading : the phenomenal power of the human mind .\"\n",
    "scrambled_sentence = scramble_words(test_sentence)\n",
    "\n",
    "scrambled_sentence"
   ]
  }
 ],
 "metadata": {
  "kernelspec": {
   "display_name": "Python 3 (ipykernel)",
   "language": "python",
   "name": "python3"
  },
  "language_info": {
   "codemirror_mode": {
    "name": "ipython",
    "version": 3
   },
   "file_extension": ".py",
   "mimetype": "text/x-python",
   "name": "python",
   "nbconvert_exporter": "python",
   "pygments_lexer": "ipython3",
   "version": "3.11.6"
  }
 },
 "nbformat": 4,
 "nbformat_minor": 5
}
