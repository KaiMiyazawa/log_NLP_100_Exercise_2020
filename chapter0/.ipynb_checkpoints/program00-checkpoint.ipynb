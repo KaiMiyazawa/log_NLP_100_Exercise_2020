{
 "cells": [
  {
   "cell_type": "code",
   "execution_count": 6,
   "id": "5d8481eb-2189-470c-a2b0-304d426256e3",
   "metadata": {},
   "outputs": [],
   "source": [
    "msg = \"stressed\""
   ]
  },
  {
   "cell_type": "code",
   "execution_count": 7,
   "id": "0d6e96a1-778e-47a3-84f9-6eb7c1a20130",
   "metadata": {},
   "outputs": [
    {
     "data": {
      "text/plain": [
       "'desserts'"
      ]
     },
     "execution_count": 7,
     "metadata": {},
     "output_type": "execute_result"
    }
   ],
   "source": [
    "msg[::-1]"
   ]
  }
 ],
 "metadata": {
  "kernelspec": {
   "display_name": "Python 3 (ipykernel)",
   "language": "python",
   "name": "python3"
  },
  "language_info": {
   "codemirror_mode": {
    "name": "ipython",
    "version": 3
   },
   "file_extension": ".py",
   "mimetype": "text/x-python",
   "name": "python",
   "nbconvert_exporter": "python",
   "pygments_lexer": "ipython3",
   "version": "3.11.6"
  }
 },
 "nbformat": 4,
 "nbformat_minor": 5
}
