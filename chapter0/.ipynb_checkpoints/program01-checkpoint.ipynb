{
 "cells": [
  {
   "cell_type": "code",
   "execution_count": 1,
   "id": "24b228bc-d7ec-4be8-8153-9c05c105d9ba",
   "metadata": {},
   "outputs": [],
   "source": [
    "str = \"パタトクカシーー\""
   ]
  },
  {
   "cell_type": "code",
   "execution_count": 2,
   "id": "1eeec138-8042-4476-bb91-436cd1cf776f",
   "metadata": {},
   "outputs": [
    {
     "data": {
      "text/plain": [
       "'パトカー'"
      ]
     },
     "execution_count": 2,
     "metadata": {},
     "output_type": "execute_result"
    }
   ],
   "source": [
    "rstr = str[0::2]\n",
    "rstr"
   ]
  },
  {
   "cell_type": "code",
   "execution_count": null,
   "id": "b20438a5-86e5-4bb6-ab72-8a2d7a6dd417",
   "metadata": {},
   "outputs": [],
   "source": []
  }
 ],
 "metadata": {
  "kernelspec": {
   "display_name": "Python 3 (ipykernel)",
   "language": "python",
   "name": "python3"
  },
  "language_info": {
   "codemirror_mode": {
    "name": "ipython",
    "version": 3
   },
   "file_extension": ".py",
   "mimetype": "text/x-python",
   "name": "python",
   "nbconvert_exporter": "python",
   "pygments_lexer": "ipython3",
   "version": "3.11.6"
  }
 },
 "nbformat": 4,
 "nbformat_minor": 5
}
