{
 "cells": [
  {
   "cell_type": "markdown",
   "id": "24998b5d-10cd-418b-b04c-a6c61384c4df",
   "metadata": {},
   "source": [
    "## "
   ]
  },
  {
   "cell_type": "markdown",
   "id": "8b8a24fc",
   "metadata": {},
   "source": [
    "# 51. 特徴量抽出Permalink\n",
    "学習データ，検証データ，評価データから特徴量を抽出し，それぞれtrain.feature.txt，valid.feature.txt，test.feature.txtというファイル名で保存せよ． なお，カテゴリ分類に有用そうな特徴量は各自で自由に設計せよ．記事の見出しを単語列に変換したものが最低限のベースラインとなるであろう．"
   ]
  },
  {
   "cell_type": "code",
   "execution_count": null,
   "id": "fb685488",
   "metadata": {},
   "outputs": [],
   "source": []
  },
  {
   "cell_type": "code",
   "execution_count": 1,
   "id": "2ce7680a-12e9-4c81-b46a-05f3f5b727fa",
   "metadata": {},
   "outputs": [],
   "source": [
    "import pandas as pd\n",
    "from sklearn.model_selection import train_test_split\n",
    "df = pd.read_table(\"newsCorpora.csv\", index_col=0,\n",
    "                   names = (\"ID\", \"TITLE\", \"URL\", \"PUBLISHER\", \"CATEGORY\", \"STORY\", \"HOSTNAME\", \"TIMESTAMP\"))\n",
    "df_1 = df[(df[\"PUBLISHER\"]==\"Reuters\")|(df[\"PUBLISHER\"]==\"Huffington Post\")|(df[\"PUBLISHER\"]==\"Businessweek\")|\n",
    "            (df[\"PUBLISHER\"]==\"Contactmusic.com\")|(df[\"PUBLISHER\"]==\"Daily Mail\")].loc[:, [\"CATEGORY\", \"TITLE\"]]#情報源をキーとした抽出\n",
    "df_1 = df_1[~df_1[\"TITLE\"].str.contains(\"http\")]\n",
    "df_Train, df_Test = train_test_split(df_1, test_size=0.2)\n",
    "df_Test, df_Val = train_test_split(df_Test, test_size=0.5)\n",
    "\n",
    "df_Train.to_csv(\"train.txt\", sep='\\t', index=False)\n",
    "df_Test.to_csv(\"test.txt\", sep='\\t', index=False)\n",
    "df_Val.to_csv(\"valid.txt\", sep='\\t', index=False)"
   ]
  },
  {
   "cell_type": "code",
   "execution_count": null,
   "id": "205a57bb",
   "metadata": {},
   "outputs": [],
   "source": []
  }
 ],
 "metadata": {
  "kernelspec": {
   "display_name": "venv",
   "language": "python",
   "name": "python3"
  },
  "language_info": {
   "codemirror_mode": {
    "name": "ipython",
    "version": 3
   },
   "file_extension": ".py",
   "mimetype": "text/x-python",
   "name": "python",
   "nbconvert_exporter": "python",
   "pygments_lexer": "ipython3",
   "version": "3.12.4"
  }
 },
 "nbformat": 4,
 "nbformat_minor": 5
}
