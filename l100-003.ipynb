{
 "cells": [
  {
   "cell_type": "code",
   "execution_count": 1,
   "id": "4379dc4e-4a65-45f9-b6e0-f5f4e01c8841",
   "metadata": {},
   "outputs": [],
   "source": [
    "str = \"Now I need a drink, alcoholic of course, after the heavy lectures involving quantum mechanics.\";"
   ]
  },
  {
   "cell_type": "code",
   "execution_count": 2,
   "id": "a47e5160-4666-4393-8c03-e03b8b46bb98",
   "metadata": {},
   "outputs": [
    {
     "name": "stdout",
     "output_type": "stream",
     "text": [
      "[3, 1, 4, 1, 6, 9, 2, 7, 5, 3, 5, 8, 9, 7, 10]\n"
     ]
    }
   ],
   "source": [
    "words = str.split(\" \")\n",
    "list = []\n",
    "\n",
    "for i in words:\n",
    "    list.append(len(i))\n",
    "\n",
    "print(list)"
   ]
  }
 ],
 "metadata": {
  "kernelspec": {
   "display_name": "Python 3 (ipykernel)",
   "language": "python",
   "name": "python3"
  },
  "language_info": {
   "codemirror_mode": {
    "name": "ipython",
    "version": 3
   },
   "file_extension": ".py",
   "mimetype": "text/x-python",
   "name": "python",
   "nbconvert_exporter": "python",
   "pygments_lexer": "ipython3",
   "version": "3.11.6"
  }
 },
 "nbformat": 4,
 "nbformat_minor": 5
}
